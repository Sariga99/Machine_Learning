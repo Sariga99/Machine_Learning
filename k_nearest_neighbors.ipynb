{
 "cells": [
  {
   "cell_type": "markdown",
   "metadata": {
    "id": "0MRC0e0KhQ0S"
   },
   "source": [
    "# K-Nearest Neighbors (K-NN)"
   ]
  },
  {
   "cell_type": "markdown",
   "metadata": {
    "id": "LWd1UlMnhT2s"
   },
   "source": [
    "## Importing the libraries"
   ]
  },
  {
   "cell_type": "code",
   "execution_count": 1,
   "metadata": {
    "id": "YvGPUQaHhXfL"
   },
   "outputs": [],
   "source": [
    "import numpy as np\n",
    "import matplotlib.pyplot as plt\n",
    "import pandas as pd"
   ]
  },
  {
   "cell_type": "markdown",
   "metadata": {
    "id": "K1VMqkGvhc3-"
   },
   "source": [
    "## Importing the dataset"
   ]
  },
  {
   "cell_type": "code",
   "execution_count": 2,
   "metadata": {
    "id": "M52QDmyzhh9s"
   },
   "outputs": [
    {
     "data": {
      "text/html": [
       "<div>\n",
       "<style scoped>\n",
       "    .dataframe tbody tr th:only-of-type {\n",
       "        vertical-align: middle;\n",
       "    }\n",
       "\n",
       "    .dataframe tbody tr th {\n",
       "        vertical-align: top;\n",
       "    }\n",
       "\n",
       "    .dataframe thead th {\n",
       "        text-align: right;\n",
       "    }\n",
       "</style>\n",
       "<table border=\"1\" class=\"dataframe\">\n",
       "  <thead>\n",
       "    <tr style=\"text-align: right;\">\n",
       "      <th></th>\n",
       "      <th>Age</th>\n",
       "      <th>EstimatedSalary</th>\n",
       "      <th>Purchased</th>\n",
       "    </tr>\n",
       "  </thead>\n",
       "  <tbody>\n",
       "    <tr>\n",
       "      <th>0</th>\n",
       "      <td>19</td>\n",
       "      <td>19000</td>\n",
       "      <td>0</td>\n",
       "    </tr>\n",
       "    <tr>\n",
       "      <th>1</th>\n",
       "      <td>35</td>\n",
       "      <td>20000</td>\n",
       "      <td>0</td>\n",
       "    </tr>\n",
       "    <tr>\n",
       "      <th>2</th>\n",
       "      <td>26</td>\n",
       "      <td>43000</td>\n",
       "      <td>0</td>\n",
       "    </tr>\n",
       "    <tr>\n",
       "      <th>3</th>\n",
       "      <td>27</td>\n",
       "      <td>57000</td>\n",
       "      <td>0</td>\n",
       "    </tr>\n",
       "    <tr>\n",
       "      <th>4</th>\n",
       "      <td>19</td>\n",
       "      <td>76000</td>\n",
       "      <td>0</td>\n",
       "    </tr>\n",
       "    <tr>\n",
       "      <th>5</th>\n",
       "      <td>27</td>\n",
       "      <td>58000</td>\n",
       "      <td>0</td>\n",
       "    </tr>\n",
       "    <tr>\n",
       "      <th>6</th>\n",
       "      <td>27</td>\n",
       "      <td>84000</td>\n",
       "      <td>0</td>\n",
       "    </tr>\n",
       "    <tr>\n",
       "      <th>7</th>\n",
       "      <td>32</td>\n",
       "      <td>150000</td>\n",
       "      <td>1</td>\n",
       "    </tr>\n",
       "    <tr>\n",
       "      <th>8</th>\n",
       "      <td>25</td>\n",
       "      <td>33000</td>\n",
       "      <td>0</td>\n",
       "    </tr>\n",
       "    <tr>\n",
       "      <th>9</th>\n",
       "      <td>35</td>\n",
       "      <td>65000</td>\n",
       "      <td>0</td>\n",
       "    </tr>\n",
       "  </tbody>\n",
       "</table>\n",
       "</div>"
      ],
      "text/plain": [
       "   Age  EstimatedSalary  Purchased\n",
       "0   19            19000          0\n",
       "1   35            20000          0\n",
       "2   26            43000          0\n",
       "3   27            57000          0\n",
       "4   19            76000          0\n",
       "5   27            58000          0\n",
       "6   27            84000          0\n",
       "7   32           150000          1\n",
       "8   25            33000          0\n",
       "9   35            65000          0"
      ]
     },
     "execution_count": 2,
     "metadata": {},
     "output_type": "execute_result"
    }
   ],
   "source": [
    "dataset = pd.read_csv(r'C:\\Users\\Dell\\Downloads\\Social_Network_Ads DT&RF.csv')\n",
    "dataset.head(10)"
   ]
  },
  {
   "cell_type": "code",
   "execution_count": 3,
   "metadata": {},
   "outputs": [
    {
     "data": {
      "text/plain": [
       "Age                0\n",
       "EstimatedSalary    0\n",
       "Purchased          0\n",
       "dtype: int64"
      ]
     },
     "execution_count": 3,
     "metadata": {},
     "output_type": "execute_result"
    }
   ],
   "source": [
    "dataset.isna().sum()"
   ]
  },
  {
   "cell_type": "code",
   "execution_count": 4,
   "metadata": {},
   "outputs": [],
   "source": [
    "X = dataset.iloc[:, :-1].values\n",
    "y = dataset.iloc[:, -1].values\n"
   ]
  },
  {
   "cell_type": "markdown",
   "metadata": {
    "id": "YvxIPVyMhmKp"
   },
   "source": [
    "## Splitting the dataset into the Training set and Test set"
   ]
  },
  {
   "cell_type": "code",
   "execution_count": 5,
   "metadata": {
    "id": "AVzJWAXIhxoC"
   },
   "outputs": [],
   "source": [
    "from sklearn.model_selection import train_test_split\n",
    "X_train, X_test, y_train, y_test = train_test_split(X, y, test_size = 0.25, random_state = 0)"
   ]
  },
  {
   "cell_type": "markdown",
   "metadata": {
    "id": "kW3c7UYih0hT"
   },
   "source": [
    "## Feature Scaling"
   ]
  },
  {
   "cell_type": "code",
   "execution_count": 6,
   "metadata": {
    "id": "9fQlDPKCh8sc"
   },
   "outputs": [],
   "source": [
    "from sklearn.preprocessing import StandardScaler\n",
    "sc = StandardScaler()\n",
    "X_train = sc.fit_transform(X_train)\n",
    "X_test = sc.transform(X_test)"
   ]
  },
  {
   "cell_type": "markdown",
   "metadata": {
    "id": "bb6jCOCQiAmP"
   },
   "source": [
    "## Training the K-NN model on the Training set"
   ]
  },
  {
   "cell_type": "code",
   "execution_count": 7,
   "metadata": {
    "colab": {
     "base_uri": "https://localhost:8080/",
     "height": 68
    },
    "executionInfo": {
     "elapsed": 1866,
     "status": "ok",
     "timestamp": 1593500645157,
     "user": {
      "displayName": "dheeraj chalil",
      "photoUrl": "https://lh3.googleusercontent.com/a-/AOh14GhbAXcamU4te7EvmoyN-Iqmz8JWCStDuA8P9NEL=s64",
      "userId": "11823908563285631061"
     },
     "user_tz": -330
    },
    "id": "e0pFVAmciHQs",
    "outputId": "d1760e77-3d4e-47c5-8f25-59e2824c97b3"
   },
   "outputs": [
    {
     "data": {
      "text/plain": [
       "KNeighborsClassifier(n_neighbors=10)"
      ]
     },
     "execution_count": 7,
     "metadata": {},
     "output_type": "execute_result"
    }
   ],
   "source": [
    "from sklearn.neighbors import KNeighborsClassifier\n",
    "classifier = KNeighborsClassifier(n_neighbors = 10)\n",
    "classifier.fit(X_train, y_train)"
   ]
  },
  {
   "cell_type": "markdown",
   "metadata": {
    "id": "yyxW5b395mR2"
   },
   "source": [
    "## Predicting a new result"
   ]
  },
  {
   "cell_type": "markdown",
   "metadata": {
    "id": "vKYVQH-l5NpE"
   },
   "source": [
    "## Predicting the Test set results"
   ]
  },
  {
   "cell_type": "code",
   "execution_count": 8,
   "metadata": {
    "id": "p6VMTb2O4hwM"
   },
   "outputs": [],
   "source": [
    "y_pred = classifier.predict(X_test)\n"
   ]
  },
  {
   "cell_type": "code",
   "execution_count": 9,
   "metadata": {},
   "outputs": [
    {
     "name": "stdout",
     "output_type": "stream",
     "text": [
      "Predicted :  Not Purchased Actual Class :  Not Purchased\n",
      "Predicted :  Not Purchased Actual Class :  Not Purchased\n",
      "Predicted :  Not Purchased Actual Class :  Not Purchased\n",
      "Predicted :  Not Purchased Actual Class :  Not Purchased\n",
      "Predicted :  Not Purchased Actual Class :  Not Purchased\n",
      "Predicted :  Not Purchased Actual Class :  Not Purchased\n",
      "Predicted :  Not Purchased Actual Class :  Not Purchased\n",
      "Predicted :  Purchased Actual Class :  Purchased\n",
      "Predicted :  Not Purchased Actual Class :  Not Purchased\n",
      "Predicted :  Purchased Actual Class :  Not Purchased\n",
      "Predicted :  Not Purchased Actual Class :  Not Purchased\n",
      "Predicted :  Not Purchased Actual Class :  Not Purchased\n",
      "Predicted :  Not Purchased Actual Class :  Not Purchased\n",
      "Predicted :  Not Purchased Actual Class :  Not Purchased\n",
      "Predicted :  Not Purchased Actual Class :  Not Purchased\n",
      "Predicted :  Purchased Actual Class :  Not Purchased\n",
      "Predicted :  Not Purchased Actual Class :  Not Purchased\n",
      "Predicted :  Not Purchased Actual Class :  Not Purchased\n",
      "Predicted :  Purchased Actual Class :  Purchased\n",
      "Predicted :  Not Purchased Actual Class :  Not Purchased\n",
      "Predicted :  Not Purchased Actual Class :  Not Purchased\n",
      "Predicted :  Purchased Actual Class :  Purchased\n",
      "Predicted :  Not Purchased Actual Class :  Not Purchased\n",
      "Predicted :  Purchased Actual Class :  Purchased\n",
      "Predicted :  Not Purchased Actual Class :  Not Purchased\n",
      "Predicted :  Purchased Actual Class :  Purchased\n",
      "Predicted :  Not Purchased Actual Class :  Not Purchased\n",
      "Predicted :  Not Purchased Actual Class :  Not Purchased\n",
      "Predicted :  Not Purchased Actual Class :  Not Purchased\n",
      "Predicted :  Not Purchased Actual Class :  Not Purchased\n",
      "Predicted :  Not Purchased Actual Class :  Not Purchased\n",
      "Predicted :  Not Purchased Actual Class :  Purchased\n",
      "Predicted :  Purchased Actual Class :  Purchased\n",
      "Predicted :  Not Purchased Actual Class :  Not Purchased\n",
      "Predicted :  Not Purchased Actual Class :  Not Purchased\n",
      "Predicted :  Not Purchased Actual Class :  Not Purchased\n",
      "Predicted :  Not Purchased Actual Class :  Not Purchased\n",
      "Predicted :  Not Purchased Actual Class :  Not Purchased\n",
      "Predicted :  Not Purchased Actual Class :  Not Purchased\n",
      "Predicted :  Purchased Actual Class :  Purchased\n",
      "Predicted :  Not Purchased Actual Class :  Not Purchased\n",
      "Predicted :  Not Purchased Actual Class :  Not Purchased\n",
      "Predicted :  Not Purchased Actual Class :  Not Purchased\n",
      "Predicted :  Not Purchased Actual Class :  Not Purchased\n",
      "Predicted :  Purchased Actual Class :  Purchased\n",
      "Predicted :  Not Purchased Actual Class :  Not Purchased\n",
      "Predicted :  Not Purchased Actual Class :  Not Purchased\n",
      "Predicted :  Purchased Actual Class :  Purchased\n",
      "Predicted :  Not Purchased Actual Class :  Not Purchased\n",
      "Predicted :  Purchased Actual Class :  Purchased\n",
      "Predicted :  Purchased Actual Class :  Purchased\n",
      "Predicted :  Not Purchased Actual Class :  Not Purchased\n",
      "Predicted :  Not Purchased Actual Class :  Not Purchased\n",
      "Predicted :  Purchased Actual Class :  Not Purchased\n",
      "Predicted :  Purchased Actual Class :  Purchased\n",
      "Predicted :  Purchased Actual Class :  Purchased\n",
      "Predicted :  Not Purchased Actual Class :  Not Purchased\n",
      "Predicted :  Not Purchased Actual Class :  Not Purchased\n",
      "Predicted :  Purchased Actual Class :  Purchased\n",
      "Predicted :  Not Purchased Actual Class :  Not Purchased\n",
      "Predicted :  Not Purchased Actual Class :  Not Purchased\n",
      "Predicted :  Purchased Actual Class :  Purchased\n",
      "Predicted :  Not Purchased Actual Class :  Not Purchased\n",
      "Predicted :  Purchased Actual Class :  Purchased\n",
      "Predicted :  Not Purchased Actual Class :  Not Purchased\n",
      "Predicted :  Purchased Actual Class :  Purchased\n",
      "Predicted :  Not Purchased Actual Class :  Not Purchased\n",
      "Predicted :  Not Purchased Actual Class :  Not Purchased\n",
      "Predicted :  Not Purchased Actual Class :  Not Purchased\n",
      "Predicted :  Not Purchased Actual Class :  Not Purchased\n",
      "Predicted :  Purchased Actual Class :  Purchased\n",
      "Predicted :  Not Purchased Actual Class :  Not Purchased\n",
      "Predicted :  Not Purchased Actual Class :  Not Purchased\n",
      "Predicted :  Purchased Actual Class :  Purchased\n",
      "Predicted :  Not Purchased Actual Class :  Not Purchased\n",
      "Predicted :  Not Purchased Actual Class :  Not Purchased\n",
      "Predicted :  Not Purchased Actual Class :  Not Purchased\n",
      "Predicted :  Not Purchased Actual Class :  Not Purchased\n",
      "Predicted :  Purchased Actual Class :  Purchased\n",
      "Predicted :  Purchased Actual Class :  Purchased\n",
      "Predicted :  Purchased Actual Class :  Purchased\n",
      "Predicted :  Purchased Actual Class :  Not Purchased\n",
      "Predicted :  Not Purchased Actual Class :  Not Purchased\n",
      "Predicted :  Not Purchased Actual Class :  Not Purchased\n",
      "Predicted :  Purchased Actual Class :  Purchased\n",
      "Predicted :  Not Purchased Actual Class :  Purchased\n",
      "Predicted :  Not Purchased Actual Class :  Not Purchased\n",
      "Predicted :  Purchased Actual Class :  Purchased\n",
      "Predicted :  Purchased Actual Class :  Purchased\n",
      "Predicted :  Not Purchased Actual Class :  Not Purchased\n",
      "Predicted :  Not Purchased Actual Class :  Not Purchased\n",
      "Predicted :  Purchased Actual Class :  Purchased\n",
      "Predicted :  Not Purchased Actual Class :  Not Purchased\n",
      "Predicted :  Not Purchased Actual Class :  Not Purchased\n",
      "Predicted :  Not Purchased Actual Class :  Not Purchased\n",
      "Predicted :  Not Purchased Actual Class :  Purchased\n",
      "Predicted :  Not Purchased Actual Class :  Not Purchased\n",
      "Predicted :  Purchased Actual Class :  Purchased\n",
      "Predicted :  Purchased Actual Class :  Purchased\n",
      "Predicted :  Purchased Actual Class :  Purchased\n"
     ]
    }
   ],
   "source": [
    "\n",
    "decoder = ['Not Purchased','Purchased']\n",
    "for i in range(len(y_pred)):\n",
    "    print(\"Predicted : \",decoder[y_pred[i]],\"Actual Class : \",decoder[y_test[i]])\n"
   ]
  },
  {
   "cell_type": "code",
   "execution_count": 10,
   "metadata": {
    "colab": {
     "base_uri": "https://localhost:8080/",
     "height": 68
    },
    "executionInfo": {
     "elapsed": 1841,
     "status": "ok",
     "timestamp": 1593500645161,
     "user": {
      "displayName": "dheeraj chalil",
      "photoUrl": "https://lh3.googleusercontent.com/a-/AOh14GhbAXcamU4te7EvmoyN-Iqmz8JWCStDuA8P9NEL=s64",
      "userId": "11823908563285631061"
     },
     "user_tz": -330
    },
    "id": "D6bpZwUiiXic",
    "outputId": "0652a12e-49e9-4a84-89d8-805c016d48b6"
   },
   "outputs": [
    {
     "name": "stdout",
     "output_type": "stream",
     "text": [
      "[[64  4]\n",
      " [ 3 29]]\n"
     ]
    }
   ],
   "source": [
    "from sklearn.metrics import confusion_matrix, accuracy_score\n",
    "cm = confusion_matrix(y_test, y_pred)\n",
    "print(cm)\n",
    "acc=accuracy_score(y_test, y_pred)"
   ]
  },
  {
   "cell_type": "code",
   "execution_count": 11,
   "metadata": {
    "colab": {
     "base_uri": "https://localhost:8080/",
     "height": 51
    },
    "executionInfo": {
     "elapsed": 1821,
     "status": "ok",
     "timestamp": 1593500645163,
     "user": {
      "displayName": "dheeraj chalil",
      "photoUrl": "https://lh3.googleusercontent.com/a-/AOh14GhbAXcamU4te7EvmoyN-Iqmz8JWCStDuA8P9NEL=s64",
      "userId": "11823908563285631061"
     },
     "user_tz": -330
    },
    "id": "a5oqVsP94J4m",
    "outputId": "60be7822-7c01-4a6e-9d20-7c89ef2a7e06"
   },
   "outputs": [
    {
     "data": {
      "text/plain": [
       "0.93"
      ]
     },
     "execution_count": 11,
     "metadata": {},
     "output_type": "execute_result"
    }
   ],
   "source": [
    "acc"
   ]
  },
  {
   "cell_type": "code",
   "execution_count": null,
   "metadata": {},
   "outputs": [],
   "source": []
  }
 ],
 "metadata": {
  "colab": {
   "collapsed_sections": [],
   "machine_shape": "hm",
   "name": "k_nearest_neighbors.ipynb",
   "provenance": []
  },
  "kernelspec": {
   "display_name": "Python 3",
   "language": "python",
   "name": "python3"
  },
  "language_info": {
   "codemirror_mode": {
    "name": "ipython",
    "version": 3
   },
   "file_extension": ".py",
   "mimetype": "text/x-python",
   "name": "python",
   "nbconvert_exporter": "python",
   "pygments_lexer": "ipython3",
   "version": "3.8.5"
  }
 },
 "nbformat": 4,
 "nbformat_minor": 4
}
